{
 "cells": [
  {
   "cell_type": "markdown",
   "id": "40a27d3c-4e5c-4b96-b290-4c49d4fd7219",
   "metadata": {},
   "source": [
    "## HuggingFace Tools\n",
    "\n",
    "[Huggingface Tools](https://huggingface.co/docs/transformers/v4.29.0/en/custom_tools) supporting text I/O can be\n",
    "loaded directly using the `load_huggingface_tool` function."
   ]
  },
  {
   "cell_type": "code",
   "execution_count": 5,
   "id": "d1055b75-362c-452a-b40d-c9a359706a3a",
   "metadata": {},
   "outputs": [
    {
     "name": "stdout",
     "output_type": "stream",
     "text": [
      "\n",
      "Usage:   \n",
      "  pip install [options] <requirement specifier> [package-index-options] ...\n",
      "  pip install [options] -r <requirements file> [package-index-options] ...\n",
      "  pip install [options] [-e] <vcs project url> ...\n",
      "  pip install [options] [-e] <local project path> ...\n",
      "  pip install [options] <archive url/path> ...\n",
      "\n",
      "no such option: --uprade\n"
     ]
    }
   ],
   "source": [
    "# Requires transformers>=4.29.0 and huggingface_hub>=0.14.1\n",
    "!pip install --uprade transformers langchain huggingface_hub > /dev/null"
   ]
  },
  {
   "cell_type": "code",
   "execution_count": 3,
   "id": "4985264a",
   "metadata": {},
   "outputs": [
    {
     "name": "stdout",
     "output_type": "stream",
     "text": [
      "Requirement already satisfied: langchain in /home/Startupcolors/doze/wound/notebooks/.venv/lib/python3.8/site-packages (0.0.154)\n",
      "Collecting langchain\n",
      "  Using cached langchain-0.0.166-py3-none-any.whl (803 kB)\n",
      "Requirement already satisfied: PyYAML>=5.4.1 in /home/Startupcolors/doze/wound/notebooks/.venv/lib/python3.8/site-packages (from langchain) (6.0)\n",
      "Requirement already satisfied: SQLAlchemy<3,>=1.4 in /home/Startupcolors/doze/wound/notebooks/.venv/lib/python3.8/site-packages (from langchain) (1.4.48)\n",
      "Requirement already satisfied: aiohttp<4.0.0,>=3.8.3 in /home/Startupcolors/doze/wound/notebooks/.venv/lib/python3.8/site-packages (from langchain) (3.8.4)\n",
      "Requirement already satisfied: async-timeout<5.0.0,>=4.0.0 in /home/Startupcolors/doze/wound/notebooks/.venv/lib/python3.8/site-packages (from langchain) (4.0.2)\n",
      "Requirement already satisfied: dataclasses-json<0.6.0,>=0.5.7 in /home/Startupcolors/doze/wound/notebooks/.venv/lib/python3.8/site-packages (from langchain) (0.5.7)\n",
      "Requirement already satisfied: numexpr<3.0.0,>=2.8.4 in /home/Startupcolors/doze/wound/notebooks/.venv/lib/python3.8/site-packages (from langchain) (2.8.4)\n",
      "Requirement already satisfied: numpy<2,>=1 in /home/Startupcolors/doze/wound/notebooks/.venv/lib/python3.8/site-packages (from langchain) (1.23.5)\n",
      "Requirement already satisfied: openapi-schema-pydantic<2.0,>=1.2 in /home/Startupcolors/doze/wound/notebooks/.venv/lib/python3.8/site-packages (from langchain) (1.2.4)\n",
      "Requirement already satisfied: pydantic<2,>=1 in /home/Startupcolors/doze/wound/notebooks/.venv/lib/python3.8/site-packages (from langchain) (1.10.7)\n",
      "Requirement already satisfied: requests<3,>=2 in /home/Startupcolors/doze/wound/notebooks/.venv/lib/python3.8/site-packages (from langchain) (2.30.0)\n",
      "Requirement already satisfied: tenacity<9.0.0,>=8.1.0 in /home/Startupcolors/doze/wound/notebooks/.venv/lib/python3.8/site-packages (from langchain) (8.2.2)\n",
      "Requirement already satisfied: tqdm>=4.48.0 in /home/Startupcolors/doze/wound/notebooks/.venv/lib/python3.8/site-packages (from langchain) (4.65.0)\n",
      "Requirement already satisfied: attrs>=17.3.0 in /home/Startupcolors/doze/wound/notebooks/.venv/lib/python3.8/site-packages (from aiohttp<4.0.0,>=3.8.3->langchain) (23.1.0)\n",
      "Requirement already satisfied: charset-normalizer<4.0,>=2.0 in /home/Startupcolors/doze/wound/notebooks/.venv/lib/python3.8/site-packages (from aiohttp<4.0.0,>=3.8.3->langchain) (3.1.0)\n",
      "Requirement already satisfied: multidict<7.0,>=4.5 in /home/Startupcolors/doze/wound/notebooks/.venv/lib/python3.8/site-packages (from aiohttp<4.0.0,>=3.8.3->langchain) (6.0.4)\n",
      "Requirement already satisfied: yarl<2.0,>=1.0 in /home/Startupcolors/doze/wound/notebooks/.venv/lib/python3.8/site-packages (from aiohttp<4.0.0,>=3.8.3->langchain) (1.9.2)\n",
      "Requirement already satisfied: frozenlist>=1.1.1 in /home/Startupcolors/doze/wound/notebooks/.venv/lib/python3.8/site-packages (from aiohttp<4.0.0,>=3.8.3->langchain) (1.3.3)\n",
      "Requirement already satisfied: aiosignal>=1.1.2 in /home/Startupcolors/doze/wound/notebooks/.venv/lib/python3.8/site-packages (from aiohttp<4.0.0,>=3.8.3->langchain) (1.3.1)\n",
      "Requirement already satisfied: marshmallow<4.0.0,>=3.3.0 in /home/Startupcolors/doze/wound/notebooks/.venv/lib/python3.8/site-packages (from dataclasses-json<0.6.0,>=0.5.7->langchain) (3.19.0)\n",
      "Requirement already satisfied: marshmallow-enum<2.0.0,>=1.5.1 in /home/Startupcolors/doze/wound/notebooks/.venv/lib/python3.8/site-packages (from dataclasses-json<0.6.0,>=0.5.7->langchain) (1.5.1)\n",
      "Requirement already satisfied: typing-inspect>=0.4.0 in /home/Startupcolors/doze/wound/notebooks/.venv/lib/python3.8/site-packages (from dataclasses-json<0.6.0,>=0.5.7->langchain) (0.6.0)\n",
      "Requirement already satisfied: typing-extensions>=4.2.0 in /home/Startupcolors/doze/wound/notebooks/.venv/lib/python3.8/site-packages (from pydantic<2,>=1->langchain) (4.5.0)\n",
      "Requirement already satisfied: idna<4,>=2.5 in /home/Startupcolors/doze/wound/notebooks/.venv/lib/python3.8/site-packages (from requests<3,>=2->langchain) (3.4)\n",
      "Requirement already satisfied: urllib3<3,>=1.21.1 in /home/Startupcolors/doze/wound/notebooks/.venv/lib/python3.8/site-packages (from requests<3,>=2->langchain) (1.26.15)\n",
      "Requirement already satisfied: certifi>=2017.4.17 in /home/Startupcolors/doze/wound/notebooks/.venv/lib/python3.8/site-packages (from requests<3,>=2->langchain) (2022.12.7)\n",
      "Requirement already satisfied: greenlet!=0.4.17 in /home/Startupcolors/doze/wound/notebooks/.venv/lib/python3.8/site-packages (from SQLAlchemy<3,>=1.4->langchain) (2.0.2)\n",
      "Requirement already satisfied: packaging>=17.0 in /home/Startupcolors/doze/wound/notebooks/.venv/lib/python3.8/site-packages (from marshmallow<4.0.0,>=3.3.0->dataclasses-json<0.6.0,>=0.5.7->langchain) (23.1)\n",
      "Requirement already satisfied: mypy-extensions>=0.3.0 in /home/Startupcolors/doze/wound/notebooks/.venv/lib/python3.8/site-packages (from typing-inspect>=0.4.0->dataclasses-json<0.6.0,>=0.5.7->langchain) (1.0.0)\n",
      "Installing collected packages: langchain\n",
      "  Attempting uninstall: langchain\n",
      "    Found existing installation: langchain 0.0.154\n",
      "    Uninstalling langchain-0.0.154:\n",
      "      Successfully uninstalled langchain-0.0.154\n",
      "Successfully installed langchain-0.0.166\n"
     ]
    }
   ],
   "source": [
    "!pip install -U langchain"
   ]
  },
  {
   "cell_type": "code",
   "execution_count": 6,
   "id": "f964bb45-fba3-4919-b022-70a602ed4354",
   "metadata": {
    "tags": []
   },
   "outputs": [
    {
     "ename": "ImportError",
     "evalue": "cannot import name 'load_huggingface_tool' from 'langchain.agents' (/home/Startupcolors/doze/wound/notebooks/.venv/lib/python3.8/site-packages/langchain/agents/__init__.py)",
     "output_type": "error",
     "traceback": [
      "\u001b[0;31m---------------------------------------------------------------------------\u001b[0m",
      "\u001b[0;31mImportError\u001b[0m                               Traceback (most recent call last)",
      "Cell \u001b[0;32mIn[6], line 1\u001b[0m\n\u001b[0;32m----> 1\u001b[0m \u001b[39mfrom\u001b[39;00m \u001b[39mlangchain\u001b[39;00m\u001b[39m.\u001b[39;00m\u001b[39magents\u001b[39;00m \u001b[39mimport\u001b[39;00m load_huggingface_tool\n\u001b[1;32m      3\u001b[0m tool \u001b[39m=\u001b[39m load_huggingface_tool(\u001b[39m\"\u001b[39m\u001b[39mlysandre/hf-model-downloads\u001b[39m\u001b[39m\"\u001b[39m)\n\u001b[1;32m      5\u001b[0m \u001b[39mprint\u001b[39m(\u001b[39mf\u001b[39m\u001b[39m\"\u001b[39m\u001b[39m{\u001b[39;00mtool\u001b[39m.\u001b[39mname\u001b[39m}\u001b[39;00m\u001b[39m: \u001b[39m\u001b[39m{\u001b[39;00mtool\u001b[39m.\u001b[39mdescription\u001b[39m}\u001b[39;00m\u001b[39m\"\u001b[39m)\n",
      "\u001b[0;31mImportError\u001b[0m: cannot import name 'load_huggingface_tool' from 'langchain.agents' (/home/Startupcolors/doze/wound/notebooks/.venv/lib/python3.8/site-packages/langchain/agents/__init__.py)"
     ]
    }
   ],
   "source": [
    "from langchain.agents import load_huggingface_tool\n",
    "\n",
    "tool = load_huggingface_tool(\"lysandre/hf-model-downloads\")\n",
    "\n",
    "print(f\"{tool.name}: {tool.description}\")"
   ]
  },
  {
   "cell_type": "code",
   "execution_count": 2,
   "id": "641d9d79-95bb-469d-b40a-50f37375de7f",
   "metadata": {
    "tags": []
   },
   "outputs": [
    {
     "data": {
      "text/plain": [
       "'facebook/bart-large-mnli'"
      ]
     },
     "execution_count": 2,
     "metadata": {},
     "output_type": "execute_result"
    }
   ],
   "source": [
    "tool.run(\"text-classification\")"
   ]
  },
  {
   "cell_type": "code",
   "execution_count": null,
   "id": "88724222-7c10-4aff-8713-751911dc8b63",
   "metadata": {},
   "outputs": [],
   "source": []
  }
 ],
 "metadata": {
  "kernelspec": {
   "display_name": "Python 3 (ipykernel)",
   "language": "python",
   "name": "python3"
  },
  "language_info": {
   "codemirror_mode": {
    "name": "ipython",
    "version": 3
   },
   "file_extension": ".py",
   "mimetype": "text/x-python",
   "name": "python",
   "nbconvert_exporter": "python",
   "pygments_lexer": "ipython3",
   "version": "3.8.10"
  }
 },
 "nbformat": 4,
 "nbformat_minor": 5
}
